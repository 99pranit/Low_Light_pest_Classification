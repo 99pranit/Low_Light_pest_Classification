{
 "cells": [
  {
   "cell_type": "markdown",
   "metadata": {},
   "source": [
    "## Import Libraries"
   ]
  },
  {
   "cell_type": "code",
   "execution_count": 1,
   "metadata": {},
   "outputs": [],
   "source": [
    "import pandas as pd\n",
    "import numpy as np \n",
    "from tqdm import tqdm\n",
    "from PIL import Image\n",
    "import os"
   ]
  },
  {
   "cell_type": "markdown",
   "metadata": {},
   "source": [
    "### Create train dataset"
   ]
  },
  {
   "cell_type": "code",
   "execution_count": null,
   "metadata": {},
   "outputs": [
    {
     "data": {
      "text/html": [
       "<div>\n",
       "<style scoped>\n",
       "    .dataframe tbody tr th:only-of-type {\n",
       "        vertical-align: middle;\n",
       "    }\n",
       "\n",
       "    .dataframe tbody tr th {\n",
       "        vertical-align: top;\n",
       "    }\n",
       "\n",
       "    .dataframe thead th {\n",
       "        text-align: right;\n",
       "    }\n",
       "</style>\n",
       "<table border=\"1\" class=\"dataframe\">\n",
       "  <thead>\n",
       "    <tr style=\"text-align: right;\">\n",
       "      <th></th>\n",
       "      <th>label</th>\n",
       "      <th>filename</th>\n",
       "    </tr>\n",
       "  </thead>\n",
       "  <tbody>\n",
       "    <tr>\n",
       "      <th>0</th>\n",
       "      <td>Tomato_healthy</td>\n",
       "      <td>9e2a71e5-2a59-4e62-9c6c-581fe9091a10___RS_HL 0...</td>\n",
       "    </tr>\n",
       "    <tr>\n",
       "      <th>1592</th>\n",
       "      <td>Tomato_healthy</td>\n",
       "      <td>e2991a66-412d-4841-8dc0-524e38338a82___GH_HL L...</td>\n",
       "    </tr>\n",
       "    <tr>\n",
       "      <th>3184</th>\n",
       "      <td>Tomato_healthy</td>\n",
       "      <td>a5e54e01-2cd5-482a-bfba-8728ca32473c___GH_HL L...</td>\n",
       "    </tr>\n",
       "    <tr>\n",
       "      <th>4776</th>\n",
       "      <td>Tomato_healthy</td>\n",
       "      <td>e9392a5e-2fac-48c5-a23d-df3aa3f61048___GH_HL L...</td>\n",
       "    </tr>\n",
       "    <tr>\n",
       "      <th>6368</th>\n",
       "      <td>Tomato_healthy</td>\n",
       "      <td>ccfba9c3-41a5-40de-b71a-980bc3336ae7___GH_HL L...</td>\n",
       "    </tr>\n",
       "    <tr>\n",
       "      <th>...</th>\n",
       "      <td>...</td>\n",
       "      <td>...</td>\n",
       "    </tr>\n",
       "    <tr>\n",
       "      <th>36154005</th>\n",
       "      <td>Potato___healthy</td>\n",
       "      <td>23f1ab77-d664-49c4-92eb-41eb66c6d101___RS_HL 4...</td>\n",
       "    </tr>\n",
       "    <tr>\n",
       "      <th>36154158</th>\n",
       "      <td>Potato___healthy</td>\n",
       "      <td>3edf7c3f-73e0-439c-870d-76cfd7c3bc45___RS_HL 1...</td>\n",
       "    </tr>\n",
       "    <tr>\n",
       "      <th>36154311</th>\n",
       "      <td>Potato___healthy</td>\n",
       "      <td>ee052892-e935-4fbb-9344-4d23c57c6890___RS_HL 5...</td>\n",
       "    </tr>\n",
       "    <tr>\n",
       "      <th>36154464</th>\n",
       "      <td>Potato___healthy</td>\n",
       "      <td>58a98860-86d8-41e7-9f8c-cc2ca5e90012___RS_HL 1...</td>\n",
       "    </tr>\n",
       "    <tr>\n",
       "      <th>36154617</th>\n",
       "      <td>Potato___healthy</td>\n",
       "      <td>8665efd2-fa3d-45f8-b1c0-746c99fb7d1e___RS_HL 1...</td>\n",
       "    </tr>\n",
       "  </tbody>\n",
       "</table>\n",
       "<p>20638 rows × 2 columns</p>\n",
       "</div>"
      ],
      "text/plain": [
       "                     label                                           filename\n",
       "0           Tomato_healthy  9e2a71e5-2a59-4e62-9c6c-581fe9091a10___RS_HL 0...\n",
       "1592        Tomato_healthy  e2991a66-412d-4841-8dc0-524e38338a82___GH_HL L...\n",
       "3184        Tomato_healthy  a5e54e01-2cd5-482a-bfba-8728ca32473c___GH_HL L...\n",
       "4776        Tomato_healthy  e9392a5e-2fac-48c5-a23d-df3aa3f61048___GH_HL L...\n",
       "6368        Tomato_healthy  ccfba9c3-41a5-40de-b71a-980bc3336ae7___GH_HL L...\n",
       "...                    ...                                                ...\n",
       "36154005  Potato___healthy  23f1ab77-d664-49c4-92eb-41eb66c6d101___RS_HL 4...\n",
       "36154158  Potato___healthy  3edf7c3f-73e0-439c-870d-76cfd7c3bc45___RS_HL 1...\n",
       "36154311  Potato___healthy  ee052892-e935-4fbb-9344-4d23c57c6890___RS_HL 5...\n",
       "36154464  Potato___healthy  58a98860-86d8-41e7-9f8c-cc2ca5e90012___RS_HL 1...\n",
       "36154617  Potato___healthy  8665efd2-fa3d-45f8-b1c0-746c99fb7d1e___RS_HL 1...\n",
       "\n",
       "[20638 rows x 2 columns]"
      ]
     },
     "execution_count": 14,
     "metadata": {},
     "output_type": "execute_result"
    }
   ],
   "source": [
    "df = pd.DataFrame(data= None , columns= ['label' , 'filename'])\n",
    "dataset_path = os.getcwd().replace('notebook' , '') + 'output_dataset'\n",
    "count = 0\n",
    "for folder in [i for i in os.listdir(dataset_path) if i != '.DS_Store']:\n",
    "    for i , file in enumerate(os.listdir(dataset_path + '/' + folder)):\n",
    "            if file.lower().endswith((\".png\", \".jpg\", \".jpeg\", \".bmp\", \".tiff\")):\n",
    "                  df.loc[count + i] = [folder, file]\n",
    "            count += len(os.listdir(dataset_path + '/' + folder))\n",
    "df.to_csv(os.getcwd().replace('notebook' , '') + 'output_dataset' + '/' + 'label.csv')"
   ]
  }
 ],
 "metadata": {
  "kernelspec": {
   "display_name": "pranit",
   "language": "python",
   "name": "python3"
  },
  "language_info": {
   "codemirror_mode": {
    "name": "ipython",
    "version": 3
   },
   "file_extension": ".py",
   "mimetype": "text/x-python",
   "name": "python",
   "nbconvert_exporter": "python",
   "pygments_lexer": "ipython3",
   "version": "3.12.8"
  }
 },
 "nbformat": 4,
 "nbformat_minor": 2
}
