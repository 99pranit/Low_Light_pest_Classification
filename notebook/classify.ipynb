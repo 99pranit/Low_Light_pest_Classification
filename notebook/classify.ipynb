{
 "cells": [
  {
   "cell_type": "markdown",
   "metadata": {},
   "source": [
    "## Import Libraries"
   ]
  },
  {
   "cell_type": "code",
   "execution_count": 67,
   "metadata": {},
   "outputs": [],
   "source": [
    "import pandas as pd\n",
    "import numpy as np \n",
    "from tqdm import tqdm\n",
    "from PIL import Image\n",
    "import os"
   ]
  },
  {
   "cell_type": "markdown",
   "metadata": {},
   "source": [
    "### Create train dataset"
   ]
  },
  {
   "cell_type": "code",
   "execution_count": 68,
   "metadata": {},
   "outputs": [],
   "source": [
    "df = pd.DataFrame(data= None , columns= ['label' , 'filename'])\n",
    "dataset_path = os.getcwd().replace('notebook' , '') + 'output_dataset'\n",
    "count = 0\n",
    "for folder in [i for i in os.listdir(dataset_path) if i not in ['.DS_Store' , 'label.csv']]:\n",
    "    for i , file in enumerate(os.listdir(dataset_path + '/' + folder)):\n",
    "            if file.lower().endswith((\".png\", \".jpg\", \".jpeg\", \".bmp\", \".tiff\")):\n",
    "                  df.loc[count + i] = [folder, file]\n",
    "            count += len(os.listdir(dataset_path + '/' + folder))\n",
    "df.to_csv(os.getcwd().replace('notebook' , '') + 'output_dataset' + '/' + 'label.csv')"
   ]
  },
  {
   "cell_type": "markdown",
   "metadata": {},
   "source": [
    "## Image Processing"
   ]
  },
  {
   "cell_type": "code",
   "execution_count": 69,
   "metadata": {},
   "outputs": [],
   "source": [
    "label_df_path = os.getcwd().replace('notebook' , '') + 'output_dataset' + '/' + 'label.csv' \n",
    "df = pd.read_csv(label_df_path , index_col=0)\n",
    "\n",
    "# One Hot Encode genre file\n",
    "df_encoded = pd.concat([pd.get_dummies(df, columns=['label']), df['label']], axis = 1)"
   ]
  },
  {
   "cell_type": "code",
   "execution_count": 74,
   "metadata": {},
   "outputs": [
    {
     "name": "stderr",
     "output_type": "stream",
     "text": [
      "100%|██████████| 20638/20638 [00:08<00:00, 2375.78it/s]\n"
     ]
    }
   ],
   "source": [
    "width = 256\n",
    "height = 256\n",
    "x = []\n",
    "for i in tqdm(range(len(df_encoded))):\n",
    "    label = df_encoded['label'].iloc[i]\n",
    "    filename = df_encoded['filename'].iloc[i]\n",
    "    path = os.path.join(os.getcwd().replace('notebook', ''), 'output_dataset', label, filename)\n",
    "    img = Image.open(path).resize((width, height))\n",
    "    img = np.array(img, dtype=np.float32) / 255.0\n",
    "    x.append(img)"
   ]
  }
 ],
 "metadata": {
  "kernelspec": {
   "display_name": "pranit",
   "language": "python",
   "name": "python3"
  },
  "language_info": {
   "codemirror_mode": {
    "name": "ipython",
    "version": 3
   },
   "file_extension": ".py",
   "mimetype": "text/x-python",
   "name": "python",
   "nbconvert_exporter": "python",
   "pygments_lexer": "ipython3",
   "version": "3.12.8"
  }
 },
 "nbformat": 4,
 "nbformat_minor": 2
}
